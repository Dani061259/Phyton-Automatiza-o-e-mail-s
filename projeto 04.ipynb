{
 "cells": [
  {
   "cell_type": "markdown",
   "metadata": {},
   "source": [
    "#### Biblioteca códigos Phyton"
   ]
  },
  {
   "cell_type": "markdown",
   "metadata": {},
   "source": [
    "- pip install opencv-python\n",
    "- pip install mediapipe\n",
    "- pip install cvzone"
   ]
  },
  {
   "cell_type": "markdown",
   "metadata": {},
   "source": [
    "#### Laços de repetição (looping com while)"
   ]
  },
  {
   "cell_type": "code",
   "execution_count": 8,
   "metadata": {},
   "outputs": [
    {
     "name": "stdout",
     "output_type": "stream",
     "text": [
      "5\n"
     ]
    }
   ],
   "source": [
    "contador = 5\n",
    "while contador >0:\n",
    "    print(contador)\n",
    "    contador = contador +1\n",
    "    break\n",
    "    "
   ]
  },
  {
   "cell_type": "code",
   "execution_count": 3,
   "metadata": {},
   "outputs": [
    {
     "name": "stdout",
     "output_type": "stream",
     "text": [
      "Danuza\n",
      "João\n",
      "parar\n"
     ]
    }
   ],
   "source": [
    "while True:\n",
    "    texto = input(\"digite algo:\")\n",
    "    print(texto)\n",
    "    if texto ==\"parar\":\n",
    "        break\n",
    "    "
   ]
  },
  {
   "cell_type": "markdown",
   "metadata": {},
   "source": [
    "#### Código do Projeto"
   ]
  },
  {
   "cell_type": "code",
   "execution_count": 15,
   "metadata": {},
   "outputs": [
    {
     "ename": "error",
     "evalue": "OpenCV(4.10.0) D:\\a\\opencv-python\\opencv-python\\opencv\\modules\\imgproc\\src\\color.cpp:196: error: (-215:Assertion failed) !_src.empty() in function 'cv::cvtColor'\n",
     "output_type": "error",
     "traceback": [
      "\u001b[1;31m---------------------------------------------------------------------------\u001b[0m",
      "\u001b[1;31merror\u001b[0m                                     Traceback (most recent call last)",
      "Cell \u001b[1;32mIn[15], line 15\u001b[0m\n\u001b[0;32m     12\u001b[0m sucesso, imagem \u001b[38;5;241m=\u001b[39m webcam\u001b[38;5;241m.\u001b[39mread()\n\u001b[0;32m     14\u001b[0m \u001b[38;5;66;03m# detecta as mãos no quadro\u001b[39;00m\n\u001b[1;32m---> 15\u001b[0m hands, imagem_maos \u001b[38;5;241m=\u001b[39m \u001b[43mrastreador\u001b[49m\u001b[38;5;241;43m.\u001b[39;49m\u001b[43mfindHands\u001b[49m\u001b[43m(\u001b[49m\u001b[43mimagem\u001b[49m\u001b[43m)\u001b[49m\n\u001b[0;32m     17\u001b[0m \u001b[38;5;66;03m# Mostra o quadro com as marcações\u001b[39;00m\n\u001b[0;32m     18\u001b[0m cv2\u001b[38;5;241m.\u001b[39mimshow(\u001b[38;5;124m\"\u001b[39m\u001b[38;5;124mProjeto 4 - IA\u001b[39m\u001b[38;5;124m\"\u001b[39m, imagem_maos)\n",
      "File \u001b[1;32mc:\\Users\\55219\\AppData\\Local\\Programs\\Python\\Python312\\Lib\\site-packages\\cvzone\\HandTrackingModule.py:54\u001b[0m, in \u001b[0;36mHandDetector.findHands\u001b[1;34m(self, img, draw, flipType)\u001b[0m\n\u001b[0;32m     47\u001b[0m \u001b[38;5;28;01mdef\u001b[39;00m \u001b[38;5;21mfindHands\u001b[39m(\u001b[38;5;28mself\u001b[39m, img, draw\u001b[38;5;241m=\u001b[39m\u001b[38;5;28;01mTrue\u001b[39;00m, flipType\u001b[38;5;241m=\u001b[39m\u001b[38;5;28;01mTrue\u001b[39;00m):\n\u001b[0;32m     48\u001b[0m \u001b[38;5;250m    \u001b[39m\u001b[38;5;124;03m\"\"\"\u001b[39;00m\n\u001b[0;32m     49\u001b[0m \u001b[38;5;124;03m    Finds hands in a BGR image.\u001b[39;00m\n\u001b[0;32m     50\u001b[0m \u001b[38;5;124;03m    :param img: Image to find the hands in.\u001b[39;00m\n\u001b[0;32m     51\u001b[0m \u001b[38;5;124;03m    :param draw: Flag to draw the output on the image.\u001b[39;00m\n\u001b[0;32m     52\u001b[0m \u001b[38;5;124;03m    :return: Image with or without drawings\u001b[39;00m\n\u001b[0;32m     53\u001b[0m \u001b[38;5;124;03m    \"\"\"\u001b[39;00m\n\u001b[1;32m---> 54\u001b[0m     imgRGB \u001b[38;5;241m=\u001b[39m \u001b[43mcv2\u001b[49m\u001b[38;5;241;43m.\u001b[39;49m\u001b[43mcvtColor\u001b[49m\u001b[43m(\u001b[49m\u001b[43mimg\u001b[49m\u001b[43m,\u001b[49m\u001b[43m \u001b[49m\u001b[43mcv2\u001b[49m\u001b[38;5;241;43m.\u001b[39;49m\u001b[43mCOLOR_BGR2RGB\u001b[49m\u001b[43m)\u001b[49m\n\u001b[0;32m     55\u001b[0m     \u001b[38;5;28mself\u001b[39m\u001b[38;5;241m.\u001b[39mresults \u001b[38;5;241m=\u001b[39m \u001b[38;5;28mself\u001b[39m\u001b[38;5;241m.\u001b[39mhands\u001b[38;5;241m.\u001b[39mprocess(imgRGB)\n\u001b[0;32m     56\u001b[0m     allHands \u001b[38;5;241m=\u001b[39m []\n",
      "\u001b[1;31merror\u001b[0m: OpenCV(4.10.0) D:\\a\\opencv-python\\opencv-python\\opencv\\modules\\imgproc\\src\\color.cpp:196: error: (-215:Assertion failed) !_src.empty() in function 'cv::cvtColor'\n"
     ]
    }
   ],
   "source": [
    "import cv2\n",
    "from cvzone.HandTrackingModule import HandDetector\n",
    "\n",
    "# Inicializa a webcam\n",
    "webcam = cv2.VideoCapture(0)\n",
    "\n",
    "# incializa o rastreador de mãos\n",
    "rastreador = HandDetector(detectionCon=0.8,maxHands=2)\n",
    "\n",
    "while True:\n",
    "    #captura a imagem da webcam\n",
    "    sucesso, imagem = webcam.read()\n",
    "    \n",
    "    # detecta as mãos no quadro\n",
    "    hands, imagem_maos = rastreador.findHands(imagem)\n",
    "    \n",
    "    # Mostra o quadro com as marcações\n",
    "    cv2.imshow(\"Projeto 4 - IA\", imagem_maos)\n",
    "    \n",
    "    # Encerra a aplicação quando qualquer tecla é pressionada\n",
    "    if cv2.waitKey(1)!=-1:\n",
    "        break\n",
    "    # Libera a câmera e fecha as janelas\n",
    "    webcam.release()\n",
    "    cv2.destroyAllWindows()\n",
    "    \n",
    "\n",
    " "
   ]
  }
 ],
 "metadata": {
  "kernelspec": {
   "display_name": "Python 3",
   "language": "python",
   "name": "python3"
  },
  "language_info": {
   "codemirror_mode": {
    "name": "ipython",
    "version": 3
   },
   "file_extension": ".py",
   "mimetype": "text/x-python",
   "name": "python",
   "nbconvert_exporter": "python",
   "pygments_lexer": "ipython3",
   "version": "3.12.5"
  }
 },
 "nbformat": 4,
 "nbformat_minor": 2
}
